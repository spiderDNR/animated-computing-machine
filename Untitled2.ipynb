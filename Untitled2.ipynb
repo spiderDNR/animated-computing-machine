{
  "nbformat": 4,
  "nbformat_minor": 0,
  "metadata": {
    "colab": {
      "provenance": [],
      "authorship_tag": "ABX9TyMf4rE206GuGpbZ0z/TdQ2A",
      "include_colab_link": true
    },
    "kernelspec": {
      "name": "python3",
      "display_name": "Python 3"
    },
    "language_info": {
      "name": "python"
    }
  },
  "cells": [
    {
      "cell_type": "markdown",
      "metadata": {
        "id": "view-in-github",
        "colab_type": "text"
      },
      "source": [
        "<a href=\"https://colab.research.google.com/github/spiderDNR/animated-computing-machine/blob/main/Untitled2.ipynb\" target=\"_parent\"><img src=\"https://colab.research.google.com/assets/colab-badge.svg\" alt=\"Open In Colab\"/></a>"
      ]
    },
    {
      "cell_type": "code",
      "execution_count": 6,
      "metadata": {
        "colab": {
          "base_uri": "https://localhost:8080/"
        },
        "id": "QbPPMrIszcZM",
        "outputId": "f43bd080-1960-4b13-84bd-8552da4fa3ea"
      },
      "outputs": [
        {
          "output_type": "execute_result",
          "data": {
            "text/plain": [
              "array([[0.77992015, 0.16159435, 0.42079615, 0.85302016, 1.        ],\n",
              "       [0.02040148, 0.31000603, 0.6632229 , 0.58695777, 1.        ],\n",
              "       [0.73805781, 0.82009078, 0.01251183, 0.48712792, 1.        ],\n",
              "       [0.31498571, 0.28101722, 0.03588936, 0.00979397, 1.        ]])"
            ]
          },
          "metadata": {},
          "execution_count": 6
        }
      ],
      "source": [
        "import numpy as np\n",
        "def initialisation(m, n):\n",
        "  matrice = np.random.rand(m, n)\n",
        "  colonne_biais = np.ones((m, 1))\n",
        "  matrice = np.concatenate((matrice, colonne_biais), axis=1)\n",
        "\n",
        "  return matrice\n",
        "\n",
        "\n",
        "initialisation(4, 4)"
      ]
    },
    {
      "cell_type": "code",
      "source": [],
      "metadata": {
        "id": "LcEdsUP47HRB"
      },
      "execution_count": null,
      "outputs": []
    }
  ]
}