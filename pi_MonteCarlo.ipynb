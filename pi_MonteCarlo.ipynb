{
  "nbformat": 4,
  "nbformat_minor": 0,
  "metadata": {
    "colab": {
      "provenance": [],
      "authorship_tag": "ABX9TyMkJs039/vVTPyWqw7WnjC2",
      "include_colab_link": true
    },
    "kernelspec": {
      "name": "python3",
      "display_name": "Python 3"
    },
    "language_info": {
      "name": "python"
    }
  },
  "cells": [
    {
      "cell_type": "markdown",
      "metadata": {
        "id": "view-in-github",
        "colab_type": "text"
      },
      "source": [
        "<a href=\"https://colab.research.google.com/github/spiderDNR/animated-computing-machine/blob/main/pi_MonteCarlo.ipynb\" target=\"_parent\"><img src=\"https://colab.research.google.com/assets/colab-badge.svg\" alt=\"Open In Colab\"/></a>"
      ]
    },
    {
      "cell_type": "code",
      "execution_count": 1,
      "metadata": {
        "colab": {
          "base_uri": "https://localhost:8080/"
        },
        "id": "_y7rX52Z8qJ2",
        "outputId": "af2dcd9e-0620-4167-952f-d981b63fe766"
      },
      "outputs": [
        {
          "output_type": "stream",
          "name": "stdout",
          "text": [
            "L'approximation de pi pour 10000: 3.1416\n",
            "La valeur de pi (math.pi): 3.141592653589793\n",
            "Le rapport entre les point dans le cercle et le nombre d'itérations 0.7854\n"
          ]
        }
      ],
      "source": [
        "import random\n",
        "from math import sqrt, pi\n",
        "\n",
        "n_in_circle = 0\n",
        "R = 1\n",
        "N_iterations = 10000\n",
        "\n",
        "for _ in range(N_iterations):\n",
        "  x = random.uniform(-1, 1)\n",
        "  y = random.uniform(-1, 1)\n",
        "  d = sqrt(x**2 + y**2)\n",
        "  if d < R:\n",
        "    n_in_circle += 1\n",
        "\n",
        "pi_approx = 4 * n_in_circle / N_iterations\n",
        "p = n_in_circle / N_iterations\n",
        "print(f\"L'approximation de pi pour {N_iterations}: {pi_approx}\")\n",
        "print(f\"La valeur de pi (math.pi): {pi}\")\n",
        "print(f\"Le rapport entre les point dans le cercle et le nombre d'itérations {p}\")"
      ]
    }
  ]
}